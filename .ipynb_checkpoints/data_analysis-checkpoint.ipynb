{
 "cells": [
  {
   "cell_type": "code",
   "execution_count": 3,
   "id": "480eba33-87b9-463f-ad2b-bf4a0440ea2a",
   "metadata": {},
   "outputs": [],
   "source": [
    "# (1) Import 및 데이터 불러오기 + 저장\n",
    "import pandas as pd\n",
    "import holidays\n",
    "\n",
    "# CSV 불러오기\n",
    "train_path = './data/train/train.csv'\n",
    "df = pd.read_csv(train_path)\n",
    "\n",
    "# 컬럼명 영어로 변경\n",
    "df.columns = ['date', 'store_menu', 'sales_qty']\n",
    "\n",
    "# 업장명 / 메뉴명 분리\n",
    "df[['store', 'menu']] = df['store_menu'].str.split('_', n=1, expand=True)\n",
    "\n",
    "# 날짜 처리\n",
    "df['date'] = pd.to_datetime(df['date'])\n",
    "\n",
    "# 한국 공휴일 데이터 생성\n",
    "kr_holidays = holidays.KR(years=range(df['date'].dt.year.min(),\n",
    "                                      df['date'].dt.year.max() + 1))\n",
    "holiday_dates = set(pd.to_datetime(list(kr_holidays.keys())).date)\n",
    "\n",
    "# 공휴일 여부\n",
    "df['is_holiday'] = df['date'].dt.date.isin(holiday_dates)\n"
   ]
  },
  {
   "cell_type": "code",
   "execution_count": 9,
   "id": "26545423-b6eb-4390-8da5-ca5c281cf386",
   "metadata": {},
   "outputs": [
    {
     "name": "stdout",
     "output_type": "stream",
     "text": [
      "                                  metric  avg_sales_qty\n",
      "0                           avg_all_days      10.653083\n",
      "1  avg_before_last_day_in_2+day_holidays      22.861658\n",
      "2         avg_all_days_in_2+day_holidays      20.138169\n",
      "3                            avg_weekend      13.996728\n"
     ]
    }
   ],
   "source": [
    "# (3) 전체 메뉴 기준 연속 휴일 판매 평균 비교\n",
    "\n",
    "# ===== 연속 공휴일 그룹 식별 =====\n",
    "holidays_df = pd.DataFrame(sorted(holiday_dates), columns=['date'])\n",
    "holidays_df['date'] = pd.to_datetime(holidays_df['date'])\n",
    "holidays_df = holidays_df.sort_values('date')\n",
    "\n",
    "holidays_df['gap'] = holidays_df['date'].diff().dt.days.fillna(0)\n",
    "holidays_df['group'] = (holidays_df['gap'] > 1).cumsum()\n",
    "\n",
    "holiday_groups = holidays_df.groupby('group')['date'].agg(list).reset_index()\n",
    "holiday_groups['length'] = holiday_groups['date'].apply(len)\n",
    "\n",
    "holiday_map = {}\n",
    "for _, row in holiday_groups.iterrows():\n",
    "    dates = row['date']\n",
    "    length = row['length']\n",
    "    for i, d in enumerate(dates):\n",
    "        if length >= 2:\n",
    "            if i == length - 1:  # 마지막 날\n",
    "                holiday_map[d.date()] = 'last_day'\n",
    "            else:\n",
    "                holiday_map[d.date()] = 'before_last_day'\n",
    "\n",
    "# holiday_group 컬럼 추가\n",
    "df['holiday_group'] = 'normal'\n",
    "df.loc[df['date'].dt.date.isin(holiday_map.keys()), 'holiday_group'] = \\\n",
    "    df['date'].dt.date.map(holiday_map)\n",
    "\n",
    "# ===== weekend 여부 추가 =====\n",
    "df['is_weekend'] = df['date'].dt.weekday >= 5  # 5=토요일, 6=일요일\n",
    "\n",
    "# ===== 평균 계산 =====\n",
    "avg_all_days = df['sales_qty'].mean()\n",
    "avg_before_last = df[df['holiday_group'] == 'before_last_day']['sales_qty'].mean()\n",
    "avg_all_holidays = df[df['holiday_group'] != 'normal']['sales_qty'].mean()\n",
    "avg_weekend = df[df['is_weekend']]['sales_qty'].mean()\n",
    "\n",
    "# ===== 결과 DataFrame =====\n",
    "holiday_comparison = pd.DataFrame({\n",
    "    'metric': [\n",
    "        'avg_all_days',\n",
    "        'avg_before_last_day_in_2+day_holidays',\n",
    "        'avg_all_days_in_2+day_holidays',\n",
    "        'avg_weekend'\n",
    "    ],\n",
    "    'avg_sales_qty': [\n",
    "        avg_all_days,\n",
    "        avg_before_last,\n",
    "        avg_all_holidays,\n",
    "        avg_weekend\n",
    "    ]\n",
    "})\n",
    "\n",
    "print(holiday_comparison)\n"
   ]
  },
  {
   "cell_type": "code",
   "execution_count": 1,
   "id": "747ad069-6e4c-450c-b512-07090c42093f",
   "metadata": {},
   "outputs": [
    {
     "name": "stdout",
     "output_type": "stream",
     "text": [
      "        store  menu_count\n",
      "0  느티나무 셀프BBQ          23\n",
      "1          담하          42\n",
      "2        라그로타          25\n",
      "3        미라시아          31\n",
      "4         연회장          23\n",
      "5       카페테리아          24\n",
      "6       포레스트릿          12\n",
      "7       화담숲주막           8\n",
      "8       화담숲카페           5\n",
      "\n",
      "상위 10개 업장별 메뉴 개수\n",
      "        store  menu_count\n",
      "1          담하          42\n",
      "3        미라시아          31\n",
      "2        라그로타          25\n",
      "5       카페테리아          24\n",
      "0  느티나무 셀프BBQ          23\n",
      "4         연회장          23\n",
      "6       포레스트릿          12\n",
      "7       화담숲주막           8\n",
      "8       화담숲카페           5\n"
     ]
    }
   ],
   "source": []
  }
 ],
 "metadata": {
  "kernelspec": {
   "display_name": "lgaimers",
   "language": "python",
   "name": "python3"
  },
  "language_info": {
   "codemirror_mode": {
    "name": "ipython",
    "version": 3
   },
   "file_extension": ".py",
   "mimetype": "text/x-python",
   "name": "python",
   "nbconvert_exporter": "python",
   "pygments_lexer": "ipython3",
   "version": "3.12.11"
  }
 },
 "nbformat": 4,
 "nbformat_minor": 5
}
